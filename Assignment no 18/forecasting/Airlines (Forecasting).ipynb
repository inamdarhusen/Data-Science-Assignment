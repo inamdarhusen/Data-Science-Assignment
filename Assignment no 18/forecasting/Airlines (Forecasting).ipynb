{
 "cells": [
  {
   "cell_type": "code",
   "execution_count": 1,
   "id": "c65d7181",
   "metadata": {
    "ExecuteTime": {
     "end_time": "2023-03-19T13:38:54.322158Z",
     "start_time": "2023-03-19T13:38:52.662342Z"
    }
   },
   "outputs": [],
   "source": [
    "# Import Libraries\n",
    "\n",
    "import numpy as np\n",
    "import pandas as pd\n",
    "import matplotlib.pyplot as plt\n",
    "import seaborn as sns\n",
    "\n",
    "import statsmodels.api as sm\n",
    "\n",
    "#inline visualization\n",
    "                        \n",
    "%matplotlib inline\n",
    "\n",
    "import warnings\n",
    "warnings.filterwarnings(\"ignore\")"
   ]
  },
  {
   "cell_type": "code",
   "execution_count": 2,
   "id": "512ba61c",
   "metadata": {
    "ExecuteTime": {
     "end_time": "2023-03-19T13:38:54.569556Z",
     "start_time": "2023-03-19T13:38:54.322158Z"
    }
   },
   "outputs": [],
   "source": [
    "# Load data set\n",
    "Data = pd.read_excel(r\"C:\\Users\\HP\\OneDrive\\Desktop\\Assignment DS (Husen)\\Assignment No 18\\Forecasting\\Airlines+Data.xlsx\")"
   ]
  },
  {
   "cell_type": "code",
   "execution_count": 3,
   "id": "7110cf62",
   "metadata": {
    "ExecuteTime": {
     "end_time": "2023-03-19T13:38:54.584787Z",
     "start_time": "2023-03-19T13:38:54.569556Z"
    }
   },
   "outputs": [
    {
     "data": {
      "text/html": [
       "<div>\n",
       "<style scoped>\n",
       "    .dataframe tbody tr th:only-of-type {\n",
       "        vertical-align: middle;\n",
       "    }\n",
       "\n",
       "    .dataframe tbody tr th {\n",
       "        vertical-align: top;\n",
       "    }\n",
       "\n",
       "    .dataframe thead th {\n",
       "        text-align: right;\n",
       "    }\n",
       "</style>\n",
       "<table border=\"1\" class=\"dataframe\">\n",
       "  <thead>\n",
       "    <tr style=\"text-align: right;\">\n",
       "      <th></th>\n",
       "      <th>Month</th>\n",
       "      <th>Passengers</th>\n",
       "    </tr>\n",
       "  </thead>\n",
       "  <tbody>\n",
       "    <tr>\n",
       "      <th>0</th>\n",
       "      <td>1995-01-01</td>\n",
       "      <td>112</td>\n",
       "    </tr>\n",
       "    <tr>\n",
       "      <th>1</th>\n",
       "      <td>1995-02-01</td>\n",
       "      <td>118</td>\n",
       "    </tr>\n",
       "    <tr>\n",
       "      <th>2</th>\n",
       "      <td>1995-03-01</td>\n",
       "      <td>132</td>\n",
       "    </tr>\n",
       "    <tr>\n",
       "      <th>3</th>\n",
       "      <td>1995-04-01</td>\n",
       "      <td>129</td>\n",
       "    </tr>\n",
       "    <tr>\n",
       "      <th>4</th>\n",
       "      <td>1995-05-01</td>\n",
       "      <td>121</td>\n",
       "    </tr>\n",
       "    <tr>\n",
       "      <th>5</th>\n",
       "      <td>1995-06-01</td>\n",
       "      <td>135</td>\n",
       "    </tr>\n",
       "    <tr>\n",
       "      <th>6</th>\n",
       "      <td>1995-07-01</td>\n",
       "      <td>148</td>\n",
       "    </tr>\n",
       "    <tr>\n",
       "      <th>7</th>\n",
       "      <td>1995-08-01</td>\n",
       "      <td>148</td>\n",
       "    </tr>\n",
       "    <tr>\n",
       "      <th>8</th>\n",
       "      <td>1995-09-01</td>\n",
       "      <td>136</td>\n",
       "    </tr>\n",
       "    <tr>\n",
       "      <th>9</th>\n",
       "      <td>1995-10-01</td>\n",
       "      <td>119</td>\n",
       "    </tr>\n",
       "  </tbody>\n",
       "</table>\n",
       "</div>"
      ],
      "text/plain": [
       "       Month  Passengers\n",
       "0 1995-01-01         112\n",
       "1 1995-02-01         118\n",
       "2 1995-03-01         132\n",
       "3 1995-04-01         129\n",
       "4 1995-05-01         121\n",
       "5 1995-06-01         135\n",
       "6 1995-07-01         148\n",
       "7 1995-08-01         148\n",
       "8 1995-09-01         136\n",
       "9 1995-10-01         119"
      ]
     },
     "execution_count": 3,
     "metadata": {},
     "output_type": "execute_result"
    }
   ],
   "source": [
    "Data.head(10)"
   ]
  },
  {
   "cell_type": "code",
   "execution_count": 4,
   "id": "5866fce9",
   "metadata": {
    "ExecuteTime": {
     "end_time": "2023-03-19T13:38:54.601049Z",
     "start_time": "2023-03-19T13:38:54.586834Z"
    }
   },
   "outputs": [
    {
     "name": "stdout",
     "output_type": "stream",
     "text": [
      "<class 'pandas.core.frame.DataFrame'>\n",
      "RangeIndex: 96 entries, 0 to 95\n",
      "Data columns (total 2 columns):\n",
      " #   Column      Non-Null Count  Dtype         \n",
      "---  ------      --------------  -----         \n",
      " 0   Month       96 non-null     datetime64[ns]\n",
      " 1   Passengers  96 non-null     int64         \n",
      "dtypes: datetime64[ns](1), int64(1)\n",
      "memory usage: 1.6 KB\n"
     ]
    }
   ],
   "source": [
    "Data.info()"
   ]
  },
  {
   "cell_type": "code",
   "execution_count": 5,
   "id": "c3a97305",
   "metadata": {
    "ExecuteTime": {
     "end_time": "2023-03-19T13:38:54.616270Z",
     "start_time": "2023-03-19T13:38:54.603018Z"
    }
   },
   "outputs": [],
   "source": [
    "# copy the original data\n",
    "    \n",
    "    \n",
    "df = Data.copy()"
   ]
  },
  {
   "cell_type": "code",
   "execution_count": 6,
   "id": "8fa9d110",
   "metadata": {
    "ExecuteTime": {
     "end_time": "2023-03-19T13:38:54.631963Z",
     "start_time": "2023-03-19T13:38:54.617273Z"
    }
   },
   "outputs": [
    {
     "data": {
      "text/plain": [
       "Month         datetime64[ns]\n",
       "Passengers             int64\n",
       "dtype: object"
      ]
     },
     "execution_count": 6,
     "metadata": {},
     "output_type": "execute_result"
    }
   ],
   "source": [
    "df.dtypes"
   ]
  },
  {
   "cell_type": "code",
   "execution_count": 7,
   "id": "ae5e4d49",
   "metadata": {
    "ExecuteTime": {
     "end_time": "2023-03-19T13:38:54.637048Z",
     "start_time": "2023-03-19T13:38:54.632957Z"
    }
   },
   "outputs": [],
   "source": [
    "df1 = df.set_index('Month')"
   ]
  },
  {
   "cell_type": "code",
   "execution_count": 8,
   "id": "febbd1ba",
   "metadata": {
    "ExecuteTime": {
     "end_time": "2023-03-19T13:38:54.651531Z",
     "start_time": "2023-03-19T13:38:54.637048Z"
    }
   },
   "outputs": [
    {
     "data": {
      "text/html": [
       "<div>\n",
       "<style scoped>\n",
       "    .dataframe tbody tr th:only-of-type {\n",
       "        vertical-align: middle;\n",
       "    }\n",
       "\n",
       "    .dataframe tbody tr th {\n",
       "        vertical-align: top;\n",
       "    }\n",
       "\n",
       "    .dataframe thead th {\n",
       "        text-align: right;\n",
       "    }\n",
       "</style>\n",
       "<table border=\"1\" class=\"dataframe\">\n",
       "  <thead>\n",
       "    <tr style=\"text-align: right;\">\n",
       "      <th></th>\n",
       "      <th>Passengers</th>\n",
       "    </tr>\n",
       "    <tr>\n",
       "      <th>Month</th>\n",
       "      <th></th>\n",
       "    </tr>\n",
       "  </thead>\n",
       "  <tbody>\n",
       "    <tr>\n",
       "      <th>1995-01-01</th>\n",
       "      <td>112</td>\n",
       "    </tr>\n",
       "    <tr>\n",
       "      <th>1995-02-01</th>\n",
       "      <td>118</td>\n",
       "    </tr>\n",
       "    <tr>\n",
       "      <th>1995-03-01</th>\n",
       "      <td>132</td>\n",
       "    </tr>\n",
       "    <tr>\n",
       "      <th>1995-04-01</th>\n",
       "      <td>129</td>\n",
       "    </tr>\n",
       "    <tr>\n",
       "      <th>1995-05-01</th>\n",
       "      <td>121</td>\n",
       "    </tr>\n",
       "  </tbody>\n",
       "</table>\n",
       "</div>"
      ],
      "text/plain": [
       "            Passengers\n",
       "Month                 \n",
       "1995-01-01         112\n",
       "1995-02-01         118\n",
       "1995-03-01         132\n",
       "1995-04-01         129\n",
       "1995-05-01         121"
      ]
     },
     "execution_count": 8,
     "metadata": {},
     "output_type": "execute_result"
    }
   ],
   "source": [
    "df1.head()"
   ]
  },
  {
   "cell_type": "code",
   "execution_count": 9,
   "id": "0ab5baab",
   "metadata": {
    "ExecuteTime": {
     "end_time": "2023-03-19T13:38:54.667276Z",
     "start_time": "2023-03-19T13:38:54.651531Z"
    }
   },
   "outputs": [],
   "source": [
    "#month as index\n",
    "\n",
    "df1 = df.set_index('Month')"
   ]
  },
  {
   "cell_type": "code",
   "execution_count": 10,
   "id": "96d541d7",
   "metadata": {
    "ExecuteTime": {
     "end_time": "2023-03-19T13:38:54.682951Z",
     "start_time": "2023-03-19T13:38:54.669460Z"
    }
   },
   "outputs": [
    {
     "data": {
      "text/html": [
       "<div>\n",
       "<style scoped>\n",
       "    .dataframe tbody tr th:only-of-type {\n",
       "        vertical-align: middle;\n",
       "    }\n",
       "\n",
       "    .dataframe tbody tr th {\n",
       "        vertical-align: top;\n",
       "    }\n",
       "\n",
       "    .dataframe thead th {\n",
       "        text-align: right;\n",
       "    }\n",
       "</style>\n",
       "<table border=\"1\" class=\"dataframe\">\n",
       "  <thead>\n",
       "    <tr style=\"text-align: right;\">\n",
       "      <th></th>\n",
       "      <th>Passengers</th>\n",
       "    </tr>\n",
       "    <tr>\n",
       "      <th>Month</th>\n",
       "      <th></th>\n",
       "    </tr>\n",
       "  </thead>\n",
       "  <tbody>\n",
       "    <tr>\n",
       "      <th>1995-01-01</th>\n",
       "      <td>112</td>\n",
       "    </tr>\n",
       "    <tr>\n",
       "      <th>1995-02-01</th>\n",
       "      <td>118</td>\n",
       "    </tr>\n",
       "    <tr>\n",
       "      <th>1995-03-01</th>\n",
       "      <td>132</td>\n",
       "    </tr>\n",
       "    <tr>\n",
       "      <th>1995-04-01</th>\n",
       "      <td>129</td>\n",
       "    </tr>\n",
       "    <tr>\n",
       "      <th>1995-05-01</th>\n",
       "      <td>121</td>\n",
       "    </tr>\n",
       "  </tbody>\n",
       "</table>\n",
       "</div>"
      ],
      "text/plain": [
       "            Passengers\n",
       "Month                 \n",
       "1995-01-01         112\n",
       "1995-02-01         118\n",
       "1995-03-01         132\n",
       "1995-04-01         129\n",
       "1995-05-01         121"
      ]
     },
     "execution_count": 10,
     "metadata": {},
     "output_type": "execute_result"
    }
   ],
   "source": [
    "df1.head()"
   ]
  },
  {
   "cell_type": "code",
   "execution_count": 11,
   "id": "5722daed",
   "metadata": {
    "ExecuteTime": {
     "end_time": "2023-03-19T13:38:54.698623Z",
     "start_time": "2023-03-19T13:38:54.683951Z"
    }
   },
   "outputs": [],
   "source": [
    "# Square root Transformation\n",
    "\n",
    "from numpy import sqrt\n",
    "from pandas import DataFrame\n",
    "\n",
    "dataframe = DataFrame(df1.values)\n",
    "dataframe.columns = ['Passengers']\n",
    "dataframe['Passengers'] = sqrt(dataframe['Passengers'])"
   ]
  },
  {
   "cell_type": "code",
   "execution_count": 12,
   "id": "e23a6845",
   "metadata": {
    "ExecuteTime": {
     "end_time": "2023-03-19T13:38:54.717298Z",
     "start_time": "2023-03-19T13:38:54.700621Z"
    }
   },
   "outputs": [],
   "source": [
    "# Transformation\n",
    "\n",
    "from numpy import log\n",
    "\n",
    "dataframe = DataFrame(df1.values)\n",
    "dataframe.columns = ['Passengers']\n",
    "dataframe['Passengers'] = log(dataframe['Passengers'])"
   ]
  },
  {
   "cell_type": "code",
   "execution_count": 13,
   "id": "d300e2d6",
   "metadata": {
    "ExecuteTime": {
     "end_time": "2023-03-19T13:38:54.732837Z",
     "start_time": "2023-03-19T13:38:54.718035Z"
    }
   },
   "outputs": [
    {
     "data": {
      "text/html": [
       "<div>\n",
       "<style scoped>\n",
       "    .dataframe tbody tr th:only-of-type {\n",
       "        vertical-align: middle;\n",
       "    }\n",
       "\n",
       "    .dataframe tbody tr th {\n",
       "        vertical-align: top;\n",
       "    }\n",
       "\n",
       "    .dataframe thead th {\n",
       "        text-align: right;\n",
       "    }\n",
       "</style>\n",
       "<table border=\"1\" class=\"dataframe\">\n",
       "  <thead>\n",
       "    <tr style=\"text-align: right;\">\n",
       "      <th></th>\n",
       "      <th>Passengers</th>\n",
       "      <th>t</th>\n",
       "      <th>t_sq</th>\n",
       "      <th>log_Passengers</th>\n",
       "    </tr>\n",
       "    <tr>\n",
       "      <th>Month</th>\n",
       "      <th></th>\n",
       "      <th></th>\n",
       "      <th></th>\n",
       "      <th></th>\n",
       "    </tr>\n",
       "  </thead>\n",
       "  <tbody>\n",
       "    <tr>\n",
       "      <th>1995-01-01</th>\n",
       "      <td>112</td>\n",
       "      <td>1</td>\n",
       "      <td>1</td>\n",
       "      <td>4.718499</td>\n",
       "    </tr>\n",
       "    <tr>\n",
       "      <th>1995-02-01</th>\n",
       "      <td>118</td>\n",
       "      <td>2</td>\n",
       "      <td>4</td>\n",
       "      <td>4.770685</td>\n",
       "    </tr>\n",
       "    <tr>\n",
       "      <th>1995-03-01</th>\n",
       "      <td>132</td>\n",
       "      <td>3</td>\n",
       "      <td>9</td>\n",
       "      <td>4.882802</td>\n",
       "    </tr>\n",
       "    <tr>\n",
       "      <th>1995-04-01</th>\n",
       "      <td>129</td>\n",
       "      <td>4</td>\n",
       "      <td>16</td>\n",
       "      <td>4.859812</td>\n",
       "    </tr>\n",
       "    <tr>\n",
       "      <th>1995-05-01</th>\n",
       "      <td>121</td>\n",
       "      <td>5</td>\n",
       "      <td>25</td>\n",
       "      <td>4.795791</td>\n",
       "    </tr>\n",
       "    <tr>\n",
       "      <th>...</th>\n",
       "      <td>...</td>\n",
       "      <td>...</td>\n",
       "      <td>...</td>\n",
       "      <td>...</td>\n",
       "    </tr>\n",
       "    <tr>\n",
       "      <th>2002-08-01</th>\n",
       "      <td>405</td>\n",
       "      <td>92</td>\n",
       "      <td>8464</td>\n",
       "      <td>6.003887</td>\n",
       "    </tr>\n",
       "    <tr>\n",
       "      <th>2002-09-01</th>\n",
       "      <td>355</td>\n",
       "      <td>93</td>\n",
       "      <td>8649</td>\n",
       "      <td>5.872118</td>\n",
       "    </tr>\n",
       "    <tr>\n",
       "      <th>2002-10-01</th>\n",
       "      <td>306</td>\n",
       "      <td>94</td>\n",
       "      <td>8836</td>\n",
       "      <td>5.723585</td>\n",
       "    </tr>\n",
       "    <tr>\n",
       "      <th>2002-11-01</th>\n",
       "      <td>271</td>\n",
       "      <td>95</td>\n",
       "      <td>9025</td>\n",
       "      <td>5.602119</td>\n",
       "    </tr>\n",
       "    <tr>\n",
       "      <th>2002-12-01</th>\n",
       "      <td>306</td>\n",
       "      <td>96</td>\n",
       "      <td>9216</td>\n",
       "      <td>5.723585</td>\n",
       "    </tr>\n",
       "  </tbody>\n",
       "</table>\n",
       "<p>96 rows × 4 columns</p>\n",
       "</div>"
      ],
      "text/plain": [
       "            Passengers   t  t_sq  log_Passengers\n",
       "Month                                           \n",
       "1995-01-01         112   1     1        4.718499\n",
       "1995-02-01         118   2     4        4.770685\n",
       "1995-03-01         132   3     9        4.882802\n",
       "1995-04-01         129   4    16        4.859812\n",
       "1995-05-01         121   5    25        4.795791\n",
       "...                ...  ..   ...             ...\n",
       "2002-08-01         405  92  8464        6.003887\n",
       "2002-09-01         355  93  8649        5.872118\n",
       "2002-10-01         306  94  8836        5.723585\n",
       "2002-11-01         271  95  9025        5.602119\n",
       "2002-12-01         306  96  9216        5.723585\n",
       "\n",
       "[96 rows x 4 columns]"
      ]
     },
     "execution_count": 13,
     "metadata": {},
     "output_type": "execute_result"
    }
   ],
   "source": [
    "df1[\"t\"] = np.arange(1,97)\n",
    "\n",
    "df1[\"t_sq\"] = df1[\"t\"]*df1[\"t\"]\n",
    "\n",
    "df1[\"log_Passengers\"] = np.log(df1[\"Passengers\"])\n",
    "df1"
   ]
  },
  {
   "cell_type": "code",
   "execution_count": 14,
   "id": "94b52d44",
   "metadata": {
    "ExecuteTime": {
     "end_time": "2023-03-19T13:38:54.748501Z",
     "start_time": "2023-03-19T13:38:54.736844Z"
    }
   },
   "outputs": [],
   "source": [
    "#Train data\n",
    "\n",
    "Train = df1.head(77)\n",
    "\n",
    "#Test data \n",
    "\n",
    "Test = df1.tail(19)"
   ]
  },
  {
   "cell_type": "code",
   "execution_count": 15,
   "id": "9967a979",
   "metadata": {
    "ExecuteTime": {
     "end_time": "2023-03-19T13:38:54.782850Z",
     "start_time": "2023-03-19T13:38:54.750499Z"
    }
   },
   "outputs": [
    {
     "data": {
      "text/plain": [
       "58.14854431950882"
      ]
     },
     "execution_count": 15,
     "metadata": {},
     "output_type": "execute_result"
    }
   ],
   "source": [
    "import statsmodels.formula.api as smf\n",
    "\n",
    "linear_model = smf.ols('Passengers~t',data=Train).fit()\n",
    "pred_linear =  pd.Series(linear_model.predict(pd.DataFrame(Test['t'])))\n",
    "rmse_linear = np.sqrt(np.mean((np.array(Test['Passengers'])-np.array(pred_linear))**2))\n",
    "rmse_linear"
   ]
  },
  {
   "cell_type": "code",
   "execution_count": 16,
   "id": "f6a2798c",
   "metadata": {
    "ExecuteTime": {
     "end_time": "2023-03-19T13:38:54.801535Z",
     "start_time": "2023-03-19T13:38:54.783854Z"
    }
   },
   "outputs": [
    {
     "data": {
      "text/plain": [
       "47.88965425184036"
      ]
     },
     "execution_count": 16,
     "metadata": {},
     "output_type": "execute_result"
    }
   ],
   "source": [
    "# Exponential Model\n",
    "\n",
    "Exp = smf.ols('log_Passengers~t',data=Train).fit()\n",
    "pred_Exp = pd.Series(Exp.predict(pd.DataFrame(Test['t'])))\n",
    "rmse_Exp = np.sqrt(np.mean((np.array(Test['Passengers'])-np.array(np.exp(pred_Exp)))**2))\n",
    "rmse_Exp"
   ]
  },
  {
   "cell_type": "code",
   "execution_count": 17,
   "id": "c4fe075c",
   "metadata": {
    "ExecuteTime": {
     "end_time": "2023-03-19T13:38:54.817209Z",
     "start_time": "2023-03-19T13:38:54.801535Z"
    }
   },
   "outputs": [
    {
     "data": {
      "text/plain": [
       "58.92632852818821"
      ]
     },
     "execution_count": 17,
     "metadata": {},
     "output_type": "execute_result"
    }
   ],
   "source": [
    "# Quadratic Model\n",
    "\n",
    "Quad = smf.ols('Passengers~t+t_sq',data=Train).fit()\n",
    "pred_Quad = pd.Series(Quad.predict(Test[[\"t\",\"t_sq\"]]))\n",
    "rmse_Quad = np.sqrt(np.mean((np.array(Test['Passengers'])-np.array(pred_Quad))**2))\n",
    "rmse_Quad"
   ]
  },
  {
   "cell_type": "code",
   "execution_count": 18,
   "id": "9e66efa2",
   "metadata": {
    "ExecuteTime": {
     "end_time": "2023-03-19T13:38:54.835894Z",
     "start_time": "2023-03-19T13:38:54.818210Z"
    }
   },
   "outputs": [
    {
     "data": {
      "text/html": [
       "<div>\n",
       "<style scoped>\n",
       "    .dataframe tbody tr th:only-of-type {\n",
       "        vertical-align: middle;\n",
       "    }\n",
       "\n",
       "    .dataframe tbody tr th {\n",
       "        vertical-align: top;\n",
       "    }\n",
       "\n",
       "    .dataframe thead th {\n",
       "        text-align: right;\n",
       "    }\n",
       "</style>\n",
       "<table border=\"1\" class=\"dataframe\">\n",
       "  <thead>\n",
       "    <tr style=\"text-align: right;\">\n",
       "      <th></th>\n",
       "      <th>MODEL</th>\n",
       "      <th>RMSE_Values</th>\n",
       "    </tr>\n",
       "  </thead>\n",
       "  <tbody>\n",
       "    <tr>\n",
       "      <th>1</th>\n",
       "      <td>rmse_Exp</td>\n",
       "      <td>47.889654</td>\n",
       "    </tr>\n",
       "    <tr>\n",
       "      <th>0</th>\n",
       "      <td>rmse_linear</td>\n",
       "      <td>58.148544</td>\n",
       "    </tr>\n",
       "    <tr>\n",
       "      <th>2</th>\n",
       "      <td>rmse_Quad</td>\n",
       "      <td>58.926329</td>\n",
       "    </tr>\n",
       "  </tbody>\n",
       "</table>\n",
       "</div>"
      ],
      "text/plain": [
       "         MODEL  RMSE_Values\n",
       "1     rmse_Exp    47.889654\n",
       "0  rmse_linear    58.148544\n",
       "2    rmse_Quad    58.926329"
      ]
     },
     "execution_count": 18,
     "metadata": {},
     "output_type": "execute_result"
    }
   ],
   "source": [
    "data = {\"MODEL\":pd.Series([\"rmse_linear\",\"rmse_Exp\",\"rmse_Quad\"]),\n",
    "        \"RMSE_Values\":pd.Series([rmse_linear,rmse_Exp,rmse_Quad,])}\n",
    "\n",
    "table_rmse=pd.DataFrame(data)\n",
    "table_rmse.sort_values(['RMSE_Values'])"
   ]
  },
  {
   "cell_type": "code",
   "execution_count": 19,
   "id": "32c74c52",
   "metadata": {
    "ExecuteTime": {
     "end_time": "2023-03-19T13:38:54.851755Z",
     "start_time": "2023-03-19T13:38:54.837864Z"
    }
   },
   "outputs": [
    {
     "data": {
      "text/html": [
       "<div>\n",
       "<style scoped>\n",
       "    .dataframe tbody tr th:only-of-type {\n",
       "        vertical-align: middle;\n",
       "    }\n",
       "\n",
       "    .dataframe tbody tr th {\n",
       "        vertical-align: top;\n",
       "    }\n",
       "\n",
       "    .dataframe thead th {\n",
       "        text-align: right;\n",
       "    }\n",
       "</style>\n",
       "<table border=\"1\" class=\"dataframe\">\n",
       "  <thead>\n",
       "    <tr style=\"text-align: right;\">\n",
       "      <th></th>\n",
       "      <th>Passengers</th>\n",
       "    </tr>\n",
       "    <tr>\n",
       "      <th>Month</th>\n",
       "      <th></th>\n",
       "    </tr>\n",
       "  </thead>\n",
       "  <tbody>\n",
       "    <tr>\n",
       "      <th>1995-01-01</th>\n",
       "      <td>112</td>\n",
       "    </tr>\n",
       "    <tr>\n",
       "      <th>1995-02-01</th>\n",
       "      <td>118</td>\n",
       "    </tr>\n",
       "    <tr>\n",
       "      <th>1995-03-01</th>\n",
       "      <td>132</td>\n",
       "    </tr>\n",
       "    <tr>\n",
       "      <th>1995-04-01</th>\n",
       "      <td>129</td>\n",
       "    </tr>\n",
       "    <tr>\n",
       "      <th>1995-05-01</th>\n",
       "      <td>121</td>\n",
       "    </tr>\n",
       "    <tr>\n",
       "      <th>...</th>\n",
       "      <td>...</td>\n",
       "    </tr>\n",
       "    <tr>\n",
       "      <th>2002-08-01</th>\n",
       "      <td>405</td>\n",
       "    </tr>\n",
       "    <tr>\n",
       "      <th>2002-09-01</th>\n",
       "      <td>355</td>\n",
       "    </tr>\n",
       "    <tr>\n",
       "      <th>2002-10-01</th>\n",
       "      <td>306</td>\n",
       "    </tr>\n",
       "    <tr>\n",
       "      <th>2002-11-01</th>\n",
       "      <td>271</td>\n",
       "    </tr>\n",
       "    <tr>\n",
       "      <th>2002-12-01</th>\n",
       "      <td>306</td>\n",
       "    </tr>\n",
       "  </tbody>\n",
       "</table>\n",
       "<p>96 rows × 1 columns</p>\n",
       "</div>"
      ],
      "text/plain": [
       "            Passengers\n",
       "Month                 \n",
       "1995-01-01         112\n",
       "1995-02-01         118\n",
       "1995-03-01         132\n",
       "1995-04-01         129\n",
       "1995-05-01         121\n",
       "...                ...\n",
       "2002-08-01         405\n",
       "2002-09-01         355\n",
       "2002-10-01         306\n",
       "2002-11-01         271\n",
       "2002-12-01         306\n",
       "\n",
       "[96 rows x 1 columns]"
      ]
     },
     "execution_count": 19,
     "metadata": {},
     "output_type": "execute_result"
    }
   ],
   "source": [
    "df2 = df1.iloc[:,0:1]\n",
    "df2"
   ]
  },
  {
   "cell_type": "code",
   "execution_count": 20,
   "id": "a41180c1",
   "metadata": {
    "ExecuteTime": {
     "end_time": "2023-03-19T13:38:54.863032Z",
     "start_time": "2023-03-19T13:38:54.853297Z"
    }
   },
   "outputs": [
    {
     "name": "stdout",
     "output_type": "stream",
     "text": [
      "Dataset 86, Validation 10\n"
     ]
    }
   ],
   "source": [
    "# Validating\n",
    "\n",
    "split_point = len(df2) - 10\n",
    "dataset, validation = df2[0:split_point], df2[split_point:]\n",
    "print('Dataset %d, Validation %d' % (len(dataset), len(validation)))\n",
    "dataset.to_csv('dataset.csv', header=False)\n",
    "validation.to_csv('validation.csv', header=False)"
   ]
  },
  {
   "cell_type": "code",
   "execution_count": 21,
   "id": "c6820729",
   "metadata": {
    "ExecuteTime": {
     "end_time": "2023-03-19T13:38:54.932028Z",
     "start_time": "2023-03-19T13:38:54.864180Z"
    }
   },
   "outputs": [],
   "source": [
    "from pandas import read_csv\n",
    "from sklearn.metrics import mean_squared_error\n",
    "from math import sqrt"
   ]
  },
  {
   "cell_type": "code",
   "execution_count": 22,
   "id": "bf9d55af",
   "metadata": {
    "ExecuteTime": {
     "end_time": "2023-03-19T13:38:54.947986Z",
     "start_time": "2023-03-19T13:38:54.933103Z"
    }
   },
   "outputs": [],
   "source": [
    "train = read_csv('dataset.csv', header=None, index_col=0, parse_dates=True, squeeze=True)"
   ]
  },
  {
   "cell_type": "code",
   "execution_count": 23,
   "id": "22d75821",
   "metadata": {
    "ExecuteTime": {
     "end_time": "2023-03-19T13:38:54.967324Z",
     "start_time": "2023-03-19T13:38:54.948997Z"
    }
   },
   "outputs": [],
   "source": [
    "X = train.values\n",
    "X = X.astype('float32')\n",
    "train_size = int(len(X) * 0.50)\n",
    "train, test = X[0:train_size], X[train_size:]"
   ]
  },
  {
   "cell_type": "code",
   "execution_count": 24,
   "id": "f1d75505",
   "metadata": {
    "ExecuteTime": {
     "end_time": "2023-03-19T13:38:54.982992Z",
     "start_time": "2023-03-19T13:38:54.967942Z"
    }
   },
   "outputs": [
    {
     "name": "stdout",
     "output_type": "stream",
     "text": [
      ">Predicted=230.000, Expected=242.000\n",
      ">Predicted=242.000, Expected=209.000\n",
      ">Predicted=209.000, Expected=191.000\n",
      ">Predicted=191.000, Expected=172.000\n",
      ">Predicted=172.000, Expected=194.000\n",
      ">Predicted=194.000, Expected=196.000\n",
      ">Predicted=196.000, Expected=196.000\n",
      ">Predicted=196.000, Expected=236.000\n",
      ">Predicted=236.000, Expected=235.000\n",
      ">Predicted=235.000, Expected=229.000\n",
      ">Predicted=229.000, Expected=243.000\n",
      ">Predicted=243.000, Expected=264.000\n",
      ">Predicted=264.000, Expected=272.000\n",
      ">Predicted=272.000, Expected=237.000\n",
      ">Predicted=237.000, Expected=211.000\n",
      ">Predicted=211.000, Expected=180.000\n",
      ">Predicted=180.000, Expected=201.000\n",
      ">Predicted=201.000, Expected=204.000\n",
      ">Predicted=204.000, Expected=188.000\n",
      ">Predicted=188.000, Expected=235.000\n",
      ">Predicted=235.000, Expected=227.000\n",
      ">Predicted=227.000, Expected=234.000\n",
      ">Predicted=234.000, Expected=264.000\n",
      ">Predicted=264.000, Expected=302.000\n",
      ">Predicted=302.000, Expected=293.000\n",
      ">Predicted=293.000, Expected=259.000\n",
      ">Predicted=259.000, Expected=229.000\n",
      ">Predicted=229.000, Expected=203.000\n",
      ">Predicted=203.000, Expected=229.000\n",
      ">Predicted=229.000, Expected=242.000\n",
      ">Predicted=242.000, Expected=233.000\n",
      ">Predicted=233.000, Expected=267.000\n",
      ">Predicted=267.000, Expected=269.000\n",
      ">Predicted=269.000, Expected=270.000\n",
      ">Predicted=270.000, Expected=315.000\n",
      ">Predicted=315.000, Expected=364.000\n",
      ">Predicted=364.000, Expected=347.000\n",
      ">Predicted=347.000, Expected=312.000\n",
      ">Predicted=312.000, Expected=274.000\n",
      ">Predicted=274.000, Expected=237.000\n",
      ">Predicted=237.000, Expected=278.000\n",
      ">Predicted=278.000, Expected=284.000\n",
      ">Predicted=284.000, Expected=277.000\n",
      "RMSE: 25.698\n"
     ]
    }
   ],
   "source": [
    "#walk-forward\n",
    "\n",
    "history = [x for x in train]\n",
    "predictions = list()\n",
    "for i in range(len(test)):\n",
    "    yhat = history[-1]\n",
    "    predictions.append(yhat)\n",
    "    obs = test[i]\n",
    "    history.append(obs)\n",
    "    print('>Predicted=%.3f, Expected=%.3f' % (yhat, obs))\n",
    "# report\n",
    "rmse = sqrt(mean_squared_error(test, predictions))\n",
    "print('RMSE: %.3f' % rmse)"
   ]
  },
  {
   "cell_type": "code",
   "execution_count": 25,
   "id": "0fec1c9b",
   "metadata": {
    "ExecuteTime": {
     "end_time": "2023-03-19T13:38:54.998707Z",
     "start_time": "2023-03-19T13:38:54.985291Z"
    }
   },
   "outputs": [],
   "source": [
    "# ARIMA Hyperparameters\n",
    "\n",
    "from statsmodels.tsa.arima.model import ARIMA\n",
    "from sklearn.metrics import mean_squared_error\n",
    "\n",
    "#evaluate an ARIMA model\n",
    "\n",
    "def evaluate_arima_model(X, arima_order):\n",
    "    \n",
    "# prepare training dataset\n",
    "\n",
    "    X = X.astype('float32')\n",
    "    train_size = int(len(X) * 0.50)\n",
    "    train, test = X[0:train_size], X[train_size:]\n",
    "    history = [x for x in train]\n",
    "    \n",
    "# make predictions\n",
    "\n",
    "    predictions = list()\n",
    "    for t in range(len(test)):\n",
    "        model = ARIMA(history, order=arima_order)\n",
    "        \n",
    "# model_fit = model.fit(disp=0)\n",
    "\n",
    "        model_fit = model.fit(disp=0)\n",
    "        yhat = model_fit.forecast()[0]\n",
    "        predictions.append(yhat)\n",
    "        history.append(test[t])\n",
    "        \n",
    "# calculate out of sample error\n",
    "\n",
    "    rmse = sqrt(mean_squared_error(test, predictions))\n",
    "    return rmse"
   ]
  },
  {
   "cell_type": "code",
   "execution_count": 26,
   "id": "4367b039",
   "metadata": {
    "ExecuteTime": {
     "end_time": "2023-03-19T13:38:55.014256Z",
     "start_time": "2023-03-19T13:38:55.000589Z"
    }
   },
   "outputs": [],
   "source": [
    "#evaluate combinations of p, d and q values\n",
    "\n",
    "def evaluate_models(dataset, p_values, d_values, q_values):\n",
    "    dataset = dataset.astype('float32')\n",
    "    best_score, best_cfg = float('inf'), None\n",
    "    for p in p_values:\n",
    "        for d in d_values:\n",
    "            for q in q_values:\n",
    "                order = (p,d,q)\n",
    "                try:\n",
    "                    rmse = evaluate_arima_model(train, order)\n",
    "                    if rmse < best_score:\n",
    "                        best_score, best_cfg = rmse, order\n",
    "                    print('ARIMA%s RMSE=%.3f' % (order,rmse))\n",
    "                except:\n",
    "                    continue\n",
    "    print('Best ARIMA%s RMSE=%.3f' % (best_cfg, best_score))"
   ]
  },
  {
   "cell_type": "code",
   "execution_count": 27,
   "id": "d171f4e1",
   "metadata": {
    "ExecuteTime": {
     "end_time": "2023-03-19T13:38:55.030896Z",
     "start_time": "2023-03-19T13:38:55.015307Z"
    }
   },
   "outputs": [
    {
     "data": {
      "text/plain": [
       "0\n",
       "1995-01-01    112\n",
       "1995-02-01    118\n",
       "1995-03-01    132\n",
       "1995-04-01    129\n",
       "1995-05-01    121\n",
       "             ... \n",
       "2001-10-01    274\n",
       "2001-11-01    237\n",
       "2001-12-01    278\n",
       "2002-01-01    284\n",
       "2002-02-01    277\n",
       "Name: 1, Length: 86, dtype: int64"
      ]
     },
     "execution_count": 27,
     "metadata": {},
     "output_type": "execute_result"
    }
   ],
   "source": [
    "train = read_csv('dataset.csv', header=None, index_col=0, parse_dates=True, squeeze=True)\n",
    "train"
   ]
  },
  {
   "cell_type": "code",
   "execution_count": 28,
   "id": "9a1e8df2",
   "metadata": {
    "ExecuteTime": {
     "end_time": "2023-03-19T13:38:55.146227Z",
     "start_time": "2023-03-19T13:38:55.031956Z"
    }
   },
   "outputs": [
    {
     "name": "stdout",
     "output_type": "stream",
     "text": [
      "Best ARIMANone RMSE=inf\n"
     ]
    }
   ],
   "source": [
    "p_values = range(0, 5)\n",
    "d_values = range(0, 5)\n",
    "q_values = range(0, 5)\n",
    "evaluate_models(train.values, p_values, d_values, q_values)"
   ]
  },
  {
   "cell_type": "code",
   "execution_count": 29,
   "id": "d0e2390f",
   "metadata": {
    "ExecuteTime": {
     "end_time": "2023-03-19T13:38:55.154021Z",
     "start_time": "2023-03-19T13:38:55.147228Z"
    }
   },
   "outputs": [],
   "source": [
    "train = read_csv('dataset.csv', header=0, index_col=0, parse_dates=True)"
   ]
  },
  {
   "cell_type": "code",
   "execution_count": 30,
   "id": "10db6784",
   "metadata": {
    "ExecuteTime": {
     "end_time": "2023-03-19T13:38:55.167921Z",
     "start_time": "2023-03-19T13:38:55.154021Z"
    }
   },
   "outputs": [],
   "source": [
    "X = train.values\n",
    "X = X.astype('float32')"
   ]
  },
  {
   "cell_type": "code",
   "execution_count": 31,
   "id": "3afebfdc",
   "metadata": {
    "ExecuteTime": {
     "end_time": "2023-03-19T13:38:55.231599Z",
     "start_time": "2023-03-19T13:38:55.167921Z"
    }
   },
   "outputs": [
    {
     "data": {
      "text/plain": [
       "array([118.0100546 , 134.691995  , 125.69763122, 118.22182912,\n",
       "       135.39019282, 149.94070344, 144.44019823, 127.54838684,\n",
       "       115.06125704, 105.44409945, 127.16969123, 114.33452843,\n",
       "       133.27389624, 137.16762623, 135.49287768, 118.08573468,\n",
       "       155.19850163, 168.14088709, 166.30896792, 142.62201863,\n",
       "       127.3719769 , 114.04575611, 152.72895764, 142.80851253,\n",
       "       154.35689202, 172.84713503, 157.28234851, 171.27458548,\n",
       "       168.81494601, 204.99087687, 184.5007756 , 178.53214665,\n",
       "       148.7268659 , 151.52216225, 172.11219006, 173.77775095,\n",
       "       180.42604943, 189.02769615, 175.96727952, 182.2352157 ,\n",
       "       220.20907924, 225.56975091, 235.38179886, 185.52580912,\n",
       "       192.33854158, 164.46243712, 213.44134086, 186.55406421,\n",
       "       205.07210617, 231.89180642, 233.39589196, 219.54273045,\n",
       "       237.14561988, 263.4932373 , 265.71159194, 216.89388805,\n",
       "       205.55168003, 177.24359912, 222.95382337, 200.44455833,\n",
       "       195.70814137, 239.9703979 , 223.88733149, 237.918734  ,\n",
       "       254.59187113, 308.76966561, 271.41275214, 243.93095926,\n",
       "       213.9954413 , 211.71898983, 241.6725013 , 245.02521573,\n",
       "       231.98666902, 270.58273701, 262.15774351, 271.27796903,\n",
       "       309.59975525, 364.3001939 , 321.77114861, 290.44494426,\n",
       "       255.76941119, 244.67239244, 294.98522165, 282.67376203,\n",
       "       280.40523559, 271.25697853, 276.0390721 , 278.08883881,\n",
       "       278.08883881, 278.08883881, 278.08883881, 278.08883881,\n",
       "       278.08883881, 278.08883881, 278.08883881, 278.08883881])"
      ]
     },
     "execution_count": 31,
     "metadata": {},
     "output_type": "execute_result"
    }
   ],
   "source": [
    "model = ARIMA(X, order=(0,1,4))\n",
    "model_fit = model.fit()\n",
    "forecast=model_fit.forecast(steps=10)[0]\n",
    "model_fit.predict(1, 96)\n",
    "\n",
    "#plt.plot(model_fit )"
   ]
  },
  {
   "cell_type": "code",
   "execution_count": 32,
   "id": "80832e8f",
   "metadata": {
    "ExecuteTime": {
     "end_time": "2023-03-19T13:38:55.247573Z",
     "start_time": "2023-03-19T13:38:55.232605Z"
    },
    "scrolled": true
   },
   "outputs": [
    {
     "data": {
      "text/plain": [
       "25.698158002219365"
      ]
     },
     "execution_count": 32,
     "metadata": {},
     "output_type": "execute_result"
    }
   ],
   "source": [
    "#Error on the test set\n",
    "\n",
    "val=pd.read_csv('validation.csv',header=None)\n",
    "\n",
    "#rmse = np.sqrt(mean_squared_error(val[1], forecast))[0]\n",
    "\n",
    "rmse"
   ]
  },
  {
   "cell_type": "code",
   "execution_count": 33,
   "id": "d793145d",
   "metadata": {
    "ExecuteTime": {
     "end_time": "2023-03-19T13:38:55.267335Z",
     "start_time": "2023-03-19T13:38:55.248631Z"
    }
   },
   "outputs": [],
   "source": [
    "#fit model\n",
    "\n",
    "df = pd.read_excel(r\"C:\\Users\\HP\\OneDrive\\Desktop\\Assignment DS (Husen)\\Assignment No 18\\Forecasting\\Airlines+Data.xlsx\")\n",
    "df1= df.set_index('Month')"
   ]
  },
  {
   "cell_type": "code",
   "execution_count": 34,
   "id": "132f2d7a",
   "metadata": {
    "ExecuteTime": {
     "end_time": "2023-03-19T13:38:55.283078Z",
     "start_time": "2023-03-19T13:38:55.268150Z"
    }
   },
   "outputs": [],
   "source": [
    "X = df1.values\n",
    "X = X.astype('float32')"
   ]
  },
  {
   "cell_type": "code",
   "execution_count": 35,
   "id": "efde6a10",
   "metadata": {
    "ExecuteTime": {
     "end_time": "2023-03-19T13:38:55.332141Z",
     "start_time": "2023-03-19T13:38:55.284890Z"
    }
   },
   "outputs": [],
   "source": [
    "model = ARIMA(X, order=(0,1,4))\n",
    "model_fit = model.fit()"
   ]
  },
  {
   "cell_type": "code",
   "execution_count": 36,
   "id": "d58f5011",
   "metadata": {
    "ExecuteTime": {
     "end_time": "2023-03-19T13:38:55.348563Z",
     "start_time": "2023-03-19T13:38:55.333408Z"
    }
   },
   "outputs": [
    {
     "data": {
      "text/plain": [
       "array([112.01380514, 119.39193597, 134.72166789, 125.15748892,\n",
       "       117.41929809, 136.6488434 , 150.19840007, 143.96916709,\n",
       "       126.21782348, 114.83814271, 104.71084216, 127.88613998,\n",
       "       113.25323163, 134.20663909, 136.88713592, 136.06986323,\n",
       "       116.44050973, 157.69176894, 168.64772493, 166.96320773,\n",
       "       140.64312561, 127.88194639, 112.82654934, 154.98373884,\n",
       "       141.54845556, 155.67642734, 172.98594011, 158.06281961,\n",
       "       171.12695252, 169.56445081, 207.1201844 , 183.85028694,\n",
       "       178.55625079, 147.23884677, 152.45962064, 172.39371803,\n",
       "       174.36123515, 180.20021187, 190.08047689, 175.44725264,\n",
       "       182.80634974, 222.12481754, 226.79854791, 235.91719759,\n",
       "       183.43502993, 193.46281952, 162.80831711, 216.43338619,\n",
       "       184.06761632, 207.26060619, 231.9745254 , 235.69806224,\n",
       "       217.40817805, 239.54091554, 264.78077026, 267.24222526,\n",
       "       213.49749076, 206.22330302, 175.39050167, 225.84961286,\n",
       "       197.60223017, 196.55376906, 240.69332351, 225.00022532,\n",
       "       237.21807212, 256.19896729, 312.35821837, 270.11971987,\n",
       "       242.64855639, 212.79095361, 212.70078693, 241.98007237,\n",
       "       245.31738957, 231.02764488, 272.89710989, 261.98602827,\n",
       "       272.26071596, 311.1315486 , 369.05699464, 319.76734771,\n",
       "       289.76993674, 254.13174093, 245.7453815 , 295.86000446,\n",
       "       282.62268909, 279.82866112, 317.32328724, 309.24050791,\n",
       "       317.73692815, 373.17561198, 411.66481222, 382.34576721,\n",
       "       320.87843074, 293.39581662, 275.12926332, 332.19710454])"
      ]
     },
     "execution_count": 36,
     "metadata": {},
     "output_type": "execute_result"
    }
   ],
   "source": [
    "forecast=model_fit.forecast(steps=10)[0]\n",
    "model_fit.predict(1,96)"
   ]
  },
  {
   "cell_type": "code",
   "execution_count": 37,
   "id": "ff03b097",
   "metadata": {
    "ExecuteTime": {
     "end_time": "2023-03-19T13:38:55.366154Z",
     "start_time": "2023-03-19T13:38:55.349616Z"
    }
   },
   "outputs": [
    {
     "data": {
      "text/plain": [
       "332.1971045410189"
      ]
     },
     "execution_count": 37,
     "metadata": {},
     "output_type": "execute_result"
    }
   ],
   "source": [
    "forecast"
   ]
  }
 ],
 "metadata": {
  "kernelspec": {
   "display_name": "Python 3 (ipykernel)",
   "language": "python",
   "name": "python3"
  },
  "language_info": {
   "codemirror_mode": {
    "name": "ipython",
    "version": 3
   },
   "file_extension": ".py",
   "mimetype": "text/x-python",
   "name": "python",
   "nbconvert_exporter": "python",
   "pygments_lexer": "ipython3",
   "version": "3.9.13"
  }
 },
 "nbformat": 4,
 "nbformat_minor": 5
}
