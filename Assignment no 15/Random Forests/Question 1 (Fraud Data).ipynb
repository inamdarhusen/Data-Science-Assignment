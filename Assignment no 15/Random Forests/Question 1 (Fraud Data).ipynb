{
 "cells": [
  {
   "cell_type": "markdown",
   "id": "65f1e02e",
   "metadata": {},
   "source": [
    "# Random Forest (Fraud Check)"
   ]
  },
  {
   "cell_type": "markdown",
   "id": "b8722995",
   "metadata": {},
   "source": [
    "# Use Random Forest to prepare a model on fraud data treating those who have taxable_income <= 30000 as \"Risky\" and others are \"Good\""
   ]
  },
  {
   "cell_type": "code",
   "execution_count": 1,
   "id": "e3b0e17c",
   "metadata": {
    "ExecuteTime": {
     "end_time": "2023-03-18T09:44:07.729018Z",
     "start_time": "2023-03-18T09:44:06.241827Z"
    }
   },
   "outputs": [],
   "source": [
    "import pandas as pd\n",
    "import numpy as np\n",
    "from sklearn.model_selection import train_test_split\n",
    "from sklearn.preprocessing import StandardScaler\n",
    "from sklearn.ensemble import RandomForestClassifier\n",
    "from sklearn.ensemble import BaggingClassifier\n",
    "from sklearn.tree import DecisionTreeClassifier\n",
    "from sklearn.ensemble import AdaBoostClassifier\n",
    "from sklearn.model_selection import cross_val_score\n",
    "from sklearn.model_selection import KFold\n",
    "\n",
    "import matplotlib.pyplot as plt"
   ]
  },
  {
   "cell_type": "code",
   "execution_count": 2,
   "id": "1fe50599",
   "metadata": {
    "ExecuteTime": {
     "end_time": "2023-03-18T09:44:07.738553Z",
     "start_time": "2023-03-18T09:44:07.729018Z"
    }
   },
   "outputs": [],
   "source": [
    "df = pd.read_csv(r\"C:\\Users\\HP\\OneDrive\\Desktop\\Assignment DS (Husen)\\Assignment No 15\\Random Forests\\Fraud_check.csv\")"
   ]
  },
  {
   "cell_type": "code",
   "execution_count": 3,
   "id": "951b5bd8",
   "metadata": {
    "ExecuteTime": {
     "end_time": "2023-03-18T09:44:07.796117Z",
     "start_time": "2023-03-18T09:44:07.742379Z"
    }
   },
   "outputs": [
    {
     "data": {
      "text/html": [
       "<div>\n",
       "<style scoped>\n",
       "    .dataframe tbody tr th:only-of-type {\n",
       "        vertical-align: middle;\n",
       "    }\n",
       "\n",
       "    .dataframe tbody tr th {\n",
       "        vertical-align: top;\n",
       "    }\n",
       "\n",
       "    .dataframe thead th {\n",
       "        text-align: right;\n",
       "    }\n",
       "</style>\n",
       "<table border=\"1\" class=\"dataframe\">\n",
       "  <thead>\n",
       "    <tr style=\"text-align: right;\">\n",
       "      <th></th>\n",
       "      <th>Undergrad</th>\n",
       "      <th>Marital.Status</th>\n",
       "      <th>Taxable.Income</th>\n",
       "      <th>City.Population</th>\n",
       "      <th>Work.Experience</th>\n",
       "      <th>Urban</th>\n",
       "    </tr>\n",
       "  </thead>\n",
       "  <tbody>\n",
       "    <tr>\n",
       "      <th>0</th>\n",
       "      <td>NO</td>\n",
       "      <td>Single</td>\n",
       "      <td>68833</td>\n",
       "      <td>50047</td>\n",
       "      <td>10</td>\n",
       "      <td>YES</td>\n",
       "    </tr>\n",
       "    <tr>\n",
       "      <th>1</th>\n",
       "      <td>YES</td>\n",
       "      <td>Divorced</td>\n",
       "      <td>33700</td>\n",
       "      <td>134075</td>\n",
       "      <td>18</td>\n",
       "      <td>YES</td>\n",
       "    </tr>\n",
       "    <tr>\n",
       "      <th>2</th>\n",
       "      <td>NO</td>\n",
       "      <td>Married</td>\n",
       "      <td>36925</td>\n",
       "      <td>160205</td>\n",
       "      <td>30</td>\n",
       "      <td>YES</td>\n",
       "    </tr>\n",
       "    <tr>\n",
       "      <th>3</th>\n",
       "      <td>YES</td>\n",
       "      <td>Single</td>\n",
       "      <td>50190</td>\n",
       "      <td>193264</td>\n",
       "      <td>15</td>\n",
       "      <td>YES</td>\n",
       "    </tr>\n",
       "    <tr>\n",
       "      <th>4</th>\n",
       "      <td>NO</td>\n",
       "      <td>Married</td>\n",
       "      <td>81002</td>\n",
       "      <td>27533</td>\n",
       "      <td>28</td>\n",
       "      <td>NO</td>\n",
       "    </tr>\n",
       "  </tbody>\n",
       "</table>\n",
       "</div>"
      ],
      "text/plain": [
       "  Undergrad Marital.Status  Taxable.Income  City.Population  Work.Experience  \\\n",
       "0        NO         Single           68833            50047               10   \n",
       "1       YES       Divorced           33700           134075               18   \n",
       "2        NO        Married           36925           160205               30   \n",
       "3       YES         Single           50190           193264               15   \n",
       "4        NO        Married           81002            27533               28   \n",
       "\n",
       "  Urban  \n",
       "0   YES  \n",
       "1   YES  \n",
       "2   YES  \n",
       "3   YES  \n",
       "4    NO  "
      ]
     },
     "execution_count": 3,
     "metadata": {},
     "output_type": "execute_result"
    }
   ],
   "source": [
    "df.head()"
   ]
  },
  {
   "cell_type": "code",
   "execution_count": 4,
   "id": "308b7963",
   "metadata": {
    "ExecuteTime": {
     "end_time": "2023-03-18T09:44:07.818976Z",
     "start_time": "2023-03-18T09:44:07.800708Z"
    }
   },
   "outputs": [
    {
     "data": {
      "text/plain": [
       "(600, 6)"
      ]
     },
     "execution_count": 4,
     "metadata": {},
     "output_type": "execute_result"
    }
   ],
   "source": [
    "df.shape"
   ]
  },
  {
   "cell_type": "code",
   "execution_count": 5,
   "id": "98d35361",
   "metadata": {
    "ExecuteTime": {
     "end_time": "2023-03-18T09:44:07.856486Z",
     "start_time": "2023-03-18T09:44:07.823592Z"
    }
   },
   "outputs": [
    {
     "data": {
      "text/plain": [
       "Undergrad          0\n",
       "Marital.Status     0\n",
       "Taxable.Income     0\n",
       "City.Population    0\n",
       "Work.Experience    0\n",
       "Urban              0\n",
       "dtype: int64"
      ]
     },
     "execution_count": 5,
     "metadata": {},
     "output_type": "execute_result"
    }
   ],
   "source": [
    "df.isnull().sum()"
   ]
  },
  {
   "cell_type": "code",
   "execution_count": 6,
   "id": "08971c6b",
   "metadata": {
    "ExecuteTime": {
     "end_time": "2023-03-18T09:44:07.868288Z",
     "start_time": "2023-03-18T09:44:07.859524Z"
    }
   },
   "outputs": [],
   "source": [
    "df['Undergrad']= df['Undergrad'].apply(lambda x: 1 if x=='YES' else 0)\n",
    "df['Urban']= df['Urban'].apply(lambda x: 1 if x=='YES' else 0)\n",
    "df['Taxable.Income']= df['Taxable.Income'].apply(lambda x: 'Risky' if x>30000 else 'Good')"
   ]
  },
  {
   "cell_type": "code",
   "execution_count": 7,
   "id": "0ee3dde7",
   "metadata": {
    "ExecuteTime": {
     "end_time": "2023-03-18T09:44:07.879111Z",
     "start_time": "2023-03-18T09:44:07.870418Z"
    }
   },
   "outputs": [
    {
     "data": {
      "text/plain": [
       "Single      217\n",
       "Married     194\n",
       "Divorced    189\n",
       "Name: Marital.Status, dtype: int64"
      ]
     },
     "execution_count": 7,
     "metadata": {},
     "output_type": "execute_result"
    }
   ],
   "source": [
    "df['Marital.Status'].value_counts()"
   ]
  },
  {
   "cell_type": "code",
   "execution_count": 8,
   "id": "41791a85",
   "metadata": {
    "ExecuteTime": {
     "end_time": "2023-03-18T09:44:07.891338Z",
     "start_time": "2023-03-18T09:44:07.879806Z"
    }
   },
   "outputs": [],
   "source": [
    "df['Marital.Status'] = df['Marital.Status'].map({'Single':1, 'Married':2, 'Divorced':3})\n"
   ]
  },
  {
   "cell_type": "code",
   "execution_count": 9,
   "id": "b15a0f4b",
   "metadata": {
    "ExecuteTime": {
     "end_time": "2023-03-18T09:44:07.915069Z",
     "start_time": "2023-03-18T09:44:07.895216Z"
    }
   },
   "outputs": [
    {
     "data": {
      "text/html": [
       "<div>\n",
       "<style scoped>\n",
       "    .dataframe tbody tr th:only-of-type {\n",
       "        vertical-align: middle;\n",
       "    }\n",
       "\n",
       "    .dataframe tbody tr th {\n",
       "        vertical-align: top;\n",
       "    }\n",
       "\n",
       "    .dataframe thead th {\n",
       "        text-align: right;\n",
       "    }\n",
       "</style>\n",
       "<table border=\"1\" class=\"dataframe\">\n",
       "  <thead>\n",
       "    <tr style=\"text-align: right;\">\n",
       "      <th></th>\n",
       "      <th>Undergrad</th>\n",
       "      <th>Marital.Status</th>\n",
       "      <th>Taxable.Income</th>\n",
       "      <th>City.Population</th>\n",
       "      <th>Work.Experience</th>\n",
       "      <th>Urban</th>\n",
       "    </tr>\n",
       "  </thead>\n",
       "  <tbody>\n",
       "    <tr>\n",
       "      <th>0</th>\n",
       "      <td>0</td>\n",
       "      <td>1</td>\n",
       "      <td>Risky</td>\n",
       "      <td>50047</td>\n",
       "      <td>10</td>\n",
       "      <td>1</td>\n",
       "    </tr>\n",
       "    <tr>\n",
       "      <th>1</th>\n",
       "      <td>1</td>\n",
       "      <td>3</td>\n",
       "      <td>Risky</td>\n",
       "      <td>134075</td>\n",
       "      <td>18</td>\n",
       "      <td>1</td>\n",
       "    </tr>\n",
       "    <tr>\n",
       "      <th>2</th>\n",
       "      <td>0</td>\n",
       "      <td>2</td>\n",
       "      <td>Risky</td>\n",
       "      <td>160205</td>\n",
       "      <td>30</td>\n",
       "      <td>1</td>\n",
       "    </tr>\n",
       "    <tr>\n",
       "      <th>3</th>\n",
       "      <td>1</td>\n",
       "      <td>1</td>\n",
       "      <td>Risky</td>\n",
       "      <td>193264</td>\n",
       "      <td>15</td>\n",
       "      <td>1</td>\n",
       "    </tr>\n",
       "    <tr>\n",
       "      <th>4</th>\n",
       "      <td>0</td>\n",
       "      <td>2</td>\n",
       "      <td>Risky</td>\n",
       "      <td>27533</td>\n",
       "      <td>28</td>\n",
       "      <td>0</td>\n",
       "    </tr>\n",
       "  </tbody>\n",
       "</table>\n",
       "</div>"
      ],
      "text/plain": [
       "   Undergrad  Marital.Status Taxable.Income  City.Population  Work.Experience  \\\n",
       "0          0               1          Risky            50047               10   \n",
       "1          1               3          Risky           134075               18   \n",
       "2          0               2          Risky           160205               30   \n",
       "3          1               1          Risky           193264               15   \n",
       "4          0               2          Risky            27533               28   \n",
       "\n",
       "   Urban  \n",
       "0      1  \n",
       "1      1  \n",
       "2      1  \n",
       "3      1  \n",
       "4      0  "
      ]
     },
     "execution_count": 9,
     "metadata": {},
     "output_type": "execute_result"
    }
   ],
   "source": [
    "df.head()"
   ]
  },
  {
   "cell_type": "code",
   "execution_count": 10,
   "id": "20cd2de2",
   "metadata": {
    "ExecuteTime": {
     "end_time": "2023-03-18T09:44:07.929816Z",
     "start_time": "2023-03-18T09:44:07.915774Z"
    }
   },
   "outputs": [
    {
     "data": {
      "text/plain": [
       "1    217\n",
       "2    194\n",
       "3    189\n",
       "Name: Marital.Status, dtype: int64"
      ]
     },
     "execution_count": 10,
     "metadata": {},
     "output_type": "execute_result"
    }
   ],
   "source": [
    "df['Marital.Status'].value_counts()"
   ]
  },
  {
   "cell_type": "code",
   "execution_count": 11,
   "id": "331b06f5",
   "metadata": {
    "ExecuteTime": {
     "end_time": "2023-03-18T09:44:08.011542Z",
     "start_time": "2023-03-18T09:44:07.931475Z"
    }
   },
   "outputs": [],
   "source": [
    "import seaborn as sns"
   ]
  },
  {
   "cell_type": "code",
   "execution_count": 12,
   "id": "2531807c",
   "metadata": {
    "ExecuteTime": {
     "end_time": "2023-03-18T09:44:08.020913Z",
     "start_time": "2023-03-18T09:44:08.012396Z"
    }
   },
   "outputs": [],
   "source": [
    "# riskey = 0, good = 1\n",
    "\n",
    "df['Taxable.Income']= df['Taxable.Income'].apply(lambda x: 0 if x=='Risky'else 1)"
   ]
  },
  {
   "cell_type": "code",
   "execution_count": 13,
   "id": "1eb820b7",
   "metadata": {
    "ExecuteTime": {
     "end_time": "2023-03-18T09:44:08.043358Z",
     "start_time": "2023-03-18T09:44:08.021796Z"
    }
   },
   "outputs": [],
   "source": [
    "# Train test the Data\n",
    "\n",
    "train = df.drop('Taxable.Income', axis=1)\n",
    "test = df['Taxable.Income']"
   ]
  },
  {
   "cell_type": "code",
   "execution_count": 14,
   "id": "df832e9d",
   "metadata": {
    "ExecuteTime": {
     "end_time": "2023-03-18T09:44:08.053190Z",
     "start_time": "2023-03-18T09:44:08.046916Z"
    }
   },
   "outputs": [],
   "source": [
    "# Train test split\n",
    "\n",
    "from sklearn.model_selection import train_test_split"
   ]
  },
  {
   "cell_type": "code",
   "execution_count": 15,
   "id": "f01124a3",
   "metadata": {
    "ExecuteTime": {
     "end_time": "2023-03-18T09:44:08.063123Z",
     "start_time": "2023-03-18T09:44:08.053190Z"
    }
   },
   "outputs": [],
   "source": [
    "x_train, x_test, y_train, y_test = train_test_split(train, test, test_size = 0.3, random_state = 1)"
   ]
  },
  {
   "cell_type": "code",
   "execution_count": 16,
   "id": "b35b84cd",
   "metadata": {
    "ExecuteTime": {
     "end_time": "2023-03-18T09:44:08.071134Z",
     "start_time": "2023-03-18T09:44:08.063123Z"
    }
   },
   "outputs": [],
   "source": [
    "# Standardize the Data\n",
    "\n",
    "from sklearn.preprocessing import StandardScaler"
   ]
  },
  {
   "cell_type": "code",
   "execution_count": 17,
   "id": "c35a8e95",
   "metadata": {
    "ExecuteTime": {
     "end_time": "2023-03-18T09:44:08.079734Z",
     "start_time": "2023-03-18T09:44:08.071134Z"
    }
   },
   "outputs": [],
   "source": [
    "scaler = StandardScaler()"
   ]
  },
  {
   "cell_type": "code",
   "execution_count": 18,
   "id": "2c25027a",
   "metadata": {
    "ExecuteTime": {
     "end_time": "2023-03-18T09:44:08.090702Z",
     "start_time": "2023-03-18T09:44:08.081881Z"
    }
   },
   "outputs": [],
   "source": [
    "col = x_train.columns\n",
    "x_train = scaler.fit_transform(x_train)\n",
    "x_test = scaler.fit_transform(x_test)"
   ]
  },
  {
   "cell_type": "code",
   "execution_count": 19,
   "id": "4c6b5e3e",
   "metadata": {
    "ExecuteTime": {
     "end_time": "2023-03-18T09:44:08.101042Z",
     "start_time": "2023-03-18T09:44:08.090702Z"
    }
   },
   "outputs": [
    {
     "data": {
      "text/plain": [
       "(420, 5)"
      ]
     },
     "execution_count": 19,
     "metadata": {},
     "output_type": "execute_result"
    }
   ],
   "source": [
    "x_train.shape"
   ]
  },
  {
   "cell_type": "code",
   "execution_count": 20,
   "id": "7f246b74",
   "metadata": {
    "ExecuteTime": {
     "end_time": "2023-03-18T09:44:08.115102Z",
     "start_time": "2023-03-18T09:44:08.105870Z"
    }
   },
   "outputs": [
    {
     "data": {
      "text/plain": [
       "(180, 5)"
      ]
     },
     "execution_count": 20,
     "metadata": {},
     "output_type": "execute_result"
    }
   ],
   "source": [
    "x_test.shape"
   ]
  },
  {
   "cell_type": "code",
   "execution_count": 21,
   "id": "af456a9d",
   "metadata": {
    "ExecuteTime": {
     "end_time": "2023-03-18T09:44:08.125208Z",
     "start_time": "2023-03-18T09:44:08.115102Z"
    }
   },
   "outputs": [],
   "source": [
    "# Build random forest"
   ]
  },
  {
   "cell_type": "code",
   "execution_count": 22,
   "id": "b3fe991b",
   "metadata": {
    "ExecuteTime": {
     "end_time": "2023-03-18T09:44:08.135935Z",
     "start_time": "2023-03-18T09:44:08.128771Z"
    }
   },
   "outputs": [],
   "source": [
    "from sklearn.ensemble import RandomForestClassifier"
   ]
  },
  {
   "cell_type": "code",
   "execution_count": 23,
   "id": "8af6085a",
   "metadata": {
    "ExecuteTime": {
     "end_time": "2023-03-18T09:44:08.161520Z",
     "start_time": "2023-03-18T09:44:08.135935Z"
    }
   },
   "outputs": [
    {
     "data": {
      "text/html": [
       "<div>\n",
       "<style scoped>\n",
       "    .dataframe tbody tr th:only-of-type {\n",
       "        vertical-align: middle;\n",
       "    }\n",
       "\n",
       "    .dataframe tbody tr th {\n",
       "        vertical-align: top;\n",
       "    }\n",
       "\n",
       "    .dataframe thead th {\n",
       "        text-align: right;\n",
       "    }\n",
       "</style>\n",
       "<table border=\"1\" class=\"dataframe\">\n",
       "  <thead>\n",
       "    <tr style=\"text-align: right;\">\n",
       "      <th></th>\n",
       "      <th>Undergrad</th>\n",
       "      <th>Marital.Status</th>\n",
       "      <th>Taxable.Income</th>\n",
       "      <th>City.Population</th>\n",
       "      <th>Work.Experience</th>\n",
       "      <th>Urban</th>\n",
       "    </tr>\n",
       "  </thead>\n",
       "  <tbody>\n",
       "    <tr>\n",
       "      <th>0</th>\n",
       "      <td>0</td>\n",
       "      <td>1</td>\n",
       "      <td>0</td>\n",
       "      <td>50047</td>\n",
       "      <td>10</td>\n",
       "      <td>1</td>\n",
       "    </tr>\n",
       "    <tr>\n",
       "      <th>1</th>\n",
       "      <td>1</td>\n",
       "      <td>3</td>\n",
       "      <td>0</td>\n",
       "      <td>134075</td>\n",
       "      <td>18</td>\n",
       "      <td>1</td>\n",
       "    </tr>\n",
       "  </tbody>\n",
       "</table>\n",
       "</div>"
      ],
      "text/plain": [
       "   Undergrad  Marital.Status  Taxable.Income  City.Population  \\\n",
       "0          0               1               0            50047   \n",
       "1          1               3               0           134075   \n",
       "\n",
       "   Work.Experience  Urban  \n",
       "0               10      1  \n",
       "1               18      1  "
      ]
     },
     "execution_count": 23,
     "metadata": {},
     "output_type": "execute_result"
    }
   ],
   "source": [
    "df.head(2)"
   ]
  },
  {
   "cell_type": "code",
   "execution_count": 24,
   "id": "16ea7d1a",
   "metadata": {
    "ExecuteTime": {
     "end_time": "2023-03-18T09:44:08.263658Z",
     "start_time": "2023-03-18T09:44:08.164038Z"
    }
   },
   "outputs": [
    {
     "data": {
      "text/plain": [
       "RandomForestClassifier()"
      ]
     },
     "execution_count": 24,
     "metadata": {},
     "output_type": "execute_result"
    }
   ],
   "source": [
    "rf_model = RandomForestClassifier(n_estimators= 100)\n",
    "rf_model.fit(x_train, y_train)"
   ]
  },
  {
   "cell_type": "code",
   "execution_count": 25,
   "id": "f96b8d5e",
   "metadata": {
    "ExecuteTime": {
     "end_time": "2023-03-18T09:44:08.285117Z",
     "start_time": "2023-03-18T09:44:08.266672Z"
    }
   },
   "outputs": [],
   "source": [
    "rf_model_pred = rf_model.predict(x_test)"
   ]
  },
  {
   "cell_type": "code",
   "execution_count": 26,
   "id": "658422ef",
   "metadata": {
    "ExecuteTime": {
     "end_time": "2023-03-18T09:44:08.295884Z",
     "start_time": "2023-03-18T09:44:08.287993Z"
    }
   },
   "outputs": [],
   "source": [
    "rf_model_actual_predict = pd.DataFrame({'Actual': y_test, 'Predict': rf_model_pred})"
   ]
  },
  {
   "cell_type": "code",
   "execution_count": 27,
   "id": "13ed6154",
   "metadata": {
    "ExecuteTime": {
     "end_time": "2023-03-18T09:44:08.311899Z",
     "start_time": "2023-03-18T09:44:08.303279Z"
    }
   },
   "outputs": [
    {
     "data": {
      "text/html": [
       "<div>\n",
       "<style scoped>\n",
       "    .dataframe tbody tr th:only-of-type {\n",
       "        vertical-align: middle;\n",
       "    }\n",
       "\n",
       "    .dataframe tbody tr th {\n",
       "        vertical-align: top;\n",
       "    }\n",
       "\n",
       "    .dataframe thead th {\n",
       "        text-align: right;\n",
       "    }\n",
       "</style>\n",
       "<table border=\"1\" class=\"dataframe\">\n",
       "  <thead>\n",
       "    <tr style=\"text-align: right;\">\n",
       "      <th></th>\n",
       "      <th>Actual</th>\n",
       "      <th>Predict</th>\n",
       "    </tr>\n",
       "  </thead>\n",
       "  <tbody>\n",
       "    <tr>\n",
       "      <th>13</th>\n",
       "      <td>0</td>\n",
       "      <td>0</td>\n",
       "    </tr>\n",
       "    <tr>\n",
       "      <th>510</th>\n",
       "      <td>0</td>\n",
       "      <td>0</td>\n",
       "    </tr>\n",
       "    <tr>\n",
       "      <th>268</th>\n",
       "      <td>0</td>\n",
       "      <td>0</td>\n",
       "    </tr>\n",
       "    <tr>\n",
       "      <th>358</th>\n",
       "      <td>0</td>\n",
       "      <td>0</td>\n",
       "    </tr>\n",
       "    <tr>\n",
       "      <th>289</th>\n",
       "      <td>0</td>\n",
       "      <td>1</td>\n",
       "    </tr>\n",
       "    <tr>\n",
       "      <th>483</th>\n",
       "      <td>1</td>\n",
       "      <td>0</td>\n",
       "    </tr>\n",
       "    <tr>\n",
       "      <th>429</th>\n",
       "      <td>0</td>\n",
       "      <td>0</td>\n",
       "    </tr>\n",
       "    <tr>\n",
       "      <th>47</th>\n",
       "      <td>0</td>\n",
       "      <td>0</td>\n",
       "    </tr>\n",
       "    <tr>\n",
       "      <th>223</th>\n",
       "      <td>0</td>\n",
       "      <td>0</td>\n",
       "    </tr>\n",
       "    <tr>\n",
       "      <th>185</th>\n",
       "      <td>0</td>\n",
       "      <td>0</td>\n",
       "    </tr>\n",
       "    <tr>\n",
       "      <th>430</th>\n",
       "      <td>0</td>\n",
       "      <td>0</td>\n",
       "    </tr>\n",
       "    <tr>\n",
       "      <th>308</th>\n",
       "      <td>0</td>\n",
       "      <td>0</td>\n",
       "    </tr>\n",
       "    <tr>\n",
       "      <th>120</th>\n",
       "      <td>0</td>\n",
       "      <td>0</td>\n",
       "    </tr>\n",
       "    <tr>\n",
       "      <th>250</th>\n",
       "      <td>0</td>\n",
       "      <td>0</td>\n",
       "    </tr>\n",
       "    <tr>\n",
       "      <th>111</th>\n",
       "      <td>0</td>\n",
       "      <td>0</td>\n",
       "    </tr>\n",
       "    <tr>\n",
       "      <th>293</th>\n",
       "      <td>0</td>\n",
       "      <td>0</td>\n",
       "    </tr>\n",
       "    <tr>\n",
       "      <th>65</th>\n",
       "      <td>0</td>\n",
       "      <td>1</td>\n",
       "    </tr>\n",
       "    <tr>\n",
       "      <th>477</th>\n",
       "      <td>0</td>\n",
       "      <td>0</td>\n",
       "    </tr>\n",
       "    <tr>\n",
       "      <th>573</th>\n",
       "      <td>0</td>\n",
       "      <td>0</td>\n",
       "    </tr>\n",
       "    <tr>\n",
       "      <th>449</th>\n",
       "      <td>0</td>\n",
       "      <td>0</td>\n",
       "    </tr>\n",
       "  </tbody>\n",
       "</table>\n",
       "</div>"
      ],
      "text/plain": [
       "     Actual  Predict\n",
       "13        0        0\n",
       "510       0        0\n",
       "268       0        0\n",
       "358       0        0\n",
       "289       0        1\n",
       "483       1        0\n",
       "429       0        0\n",
       "47        0        0\n",
       "223       0        0\n",
       "185       0        0\n",
       "430       0        0\n",
       "308       0        0\n",
       "120       0        0\n",
       "250       0        0\n",
       "111       0        0\n",
       "293       0        0\n",
       "65        0        1\n",
       "477       0        0\n",
       "573       0        0\n",
       "449       0        0"
      ]
     },
     "execution_count": 27,
     "metadata": {},
     "output_type": "execute_result"
    }
   ],
   "source": [
    "rf_model_actual_predict[20:40]"
   ]
  },
  {
   "cell_type": "code",
   "execution_count": 28,
   "id": "df2d99fa",
   "metadata": {
    "ExecuteTime": {
     "end_time": "2023-03-18T09:44:08.334640Z",
     "start_time": "2023-03-18T09:44:08.313147Z"
    }
   },
   "outputs": [
    {
     "data": {
      "text/plain": [
       "78.33333333333333"
      ]
     },
     "execution_count": 28,
     "metadata": {},
     "output_type": "execute_result"
    }
   ],
   "source": [
    "rf_model.score(x_test, y_test)*100"
   ]
  },
  {
   "cell_type": "code",
   "execution_count": 29,
   "id": "087d1b28",
   "metadata": {
    "ExecuteTime": {
     "end_time": "2023-03-18T09:44:08.345574Z",
     "start_time": "2023-03-18T09:44:08.338051Z"
    }
   },
   "outputs": [],
   "source": [
    "# Apply Bagging\n",
    "\n",
    "from sklearn.ensemble import BaggingClassifier\n",
    "from sklearn.tree import DecisionTreeClassifier"
   ]
  },
  {
   "cell_type": "code",
   "execution_count": 30,
   "id": "4f991814",
   "metadata": {
    "ExecuteTime": {
     "end_time": "2023-03-18T09:44:08.361714Z",
     "start_time": "2023-03-18T09:44:08.347690Z"
    }
   },
   "outputs": [],
   "source": [
    "bg = BaggingClassifier(base_estimator = DecisionTreeClassifier(), max_samples =0.5, max_features = 1.0, n_estimators = 100, random_state = 8 )"
   ]
  },
  {
   "cell_type": "code",
   "execution_count": 31,
   "id": "0dae417d",
   "metadata": {
    "ExecuteTime": {
     "end_time": "2023-03-18T09:44:08.458169Z",
     "start_time": "2023-03-18T09:44:08.363182Z"
    }
   },
   "outputs": [
    {
     "data": {
      "text/plain": [
       "BaggingClassifier(base_estimator=DecisionTreeClassifier(), max_samples=0.5,\n",
       "                  n_estimators=100, random_state=8)"
      ]
     },
     "execution_count": 31,
     "metadata": {},
     "output_type": "execute_result"
    }
   ],
   "source": [
    "bg.fit(x_train, y_train)"
   ]
  },
  {
   "cell_type": "code",
   "execution_count": 32,
   "id": "9e2f8a21",
   "metadata": {
    "ExecuteTime": {
     "end_time": "2023-03-18T09:44:08.485126Z",
     "start_time": "2023-03-18T09:44:08.458169Z"
    }
   },
   "outputs": [],
   "source": [
    "bg_prid = bg.predict(x_test)"
   ]
  },
  {
   "cell_type": "code",
   "execution_count": 33,
   "id": "cb3383c4",
   "metadata": {
    "ExecuteTime": {
     "end_time": "2023-03-18T09:44:08.495739Z",
     "start_time": "2023-03-18T09:44:08.485126Z"
    }
   },
   "outputs": [],
   "source": [
    "bg_actual_prid = pd.DataFrame({'Actual': y_test, 'predict': bg_prid})"
   ]
  },
  {
   "cell_type": "code",
   "execution_count": 34,
   "id": "b9d3184d",
   "metadata": {
    "ExecuteTime": {
     "end_time": "2023-03-18T09:44:08.511888Z",
     "start_time": "2023-03-18T09:44:08.496475Z"
    }
   },
   "outputs": [
    {
     "data": {
      "text/html": [
       "<div>\n",
       "<style scoped>\n",
       "    .dataframe tbody tr th:only-of-type {\n",
       "        vertical-align: middle;\n",
       "    }\n",
       "\n",
       "    .dataframe tbody tr th {\n",
       "        vertical-align: top;\n",
       "    }\n",
       "\n",
       "    .dataframe thead th {\n",
       "        text-align: right;\n",
       "    }\n",
       "</style>\n",
       "<table border=\"1\" class=\"dataframe\">\n",
       "  <thead>\n",
       "    <tr style=\"text-align: right;\">\n",
       "      <th></th>\n",
       "      <th>Actual</th>\n",
       "      <th>predict</th>\n",
       "    </tr>\n",
       "  </thead>\n",
       "  <tbody>\n",
       "    <tr>\n",
       "      <th>446</th>\n",
       "      <td>1</td>\n",
       "      <td>0</td>\n",
       "    </tr>\n",
       "    <tr>\n",
       "      <th>404</th>\n",
       "      <td>0</td>\n",
       "      <td>0</td>\n",
       "    </tr>\n",
       "    <tr>\n",
       "      <th>509</th>\n",
       "      <td>1</td>\n",
       "      <td>0</td>\n",
       "    </tr>\n",
       "    <tr>\n",
       "      <th>455</th>\n",
       "      <td>0</td>\n",
       "      <td>0</td>\n",
       "    </tr>\n",
       "    <tr>\n",
       "      <th>201</th>\n",
       "      <td>0</td>\n",
       "      <td>0</td>\n",
       "    </tr>\n",
       "    <tr>\n",
       "      <th>23</th>\n",
       "      <td>0</td>\n",
       "      <td>0</td>\n",
       "    </tr>\n",
       "    <tr>\n",
       "      <th>415</th>\n",
       "      <td>0</td>\n",
       "      <td>0</td>\n",
       "    </tr>\n",
       "    <tr>\n",
       "      <th>548</th>\n",
       "      <td>0</td>\n",
       "      <td>0</td>\n",
       "    </tr>\n",
       "    <tr>\n",
       "      <th>66</th>\n",
       "      <td>0</td>\n",
       "      <td>0</td>\n",
       "    </tr>\n",
       "    <tr>\n",
       "      <th>165</th>\n",
       "      <td>0</td>\n",
       "      <td>0</td>\n",
       "    </tr>\n",
       "  </tbody>\n",
       "</table>\n",
       "</div>"
      ],
      "text/plain": [
       "     Actual  predict\n",
       "446       1        0\n",
       "404       0        0\n",
       "509       1        0\n",
       "455       0        0\n",
       "201       0        0\n",
       "23        0        0\n",
       "415       0        0\n",
       "548       0        0\n",
       "66        0        0\n",
       "165       0        0"
      ]
     },
     "execution_count": 34,
     "metadata": {},
     "output_type": "execute_result"
    }
   ],
   "source": [
    "bg_actual_prid[:10]"
   ]
  },
  {
   "cell_type": "code",
   "execution_count": 35,
   "id": "c0d0d748",
   "metadata": {
    "ExecuteTime": {
     "end_time": "2023-03-18T09:44:08.527942Z",
     "start_time": "2023-03-18T09:44:08.513158Z"
    }
   },
   "outputs": [
    {
     "data": {
      "text/plain": [
       "0.7888888888888889"
      ]
     },
     "execution_count": 35,
     "metadata": {},
     "output_type": "execute_result"
    }
   ],
   "source": [
    "bg.score(x_test, y_test)"
   ]
  },
  {
   "cell_type": "code",
   "execution_count": 36,
   "id": "b9589627",
   "metadata": {
    "ExecuteTime": {
     "end_time": "2023-03-18T09:44:08.536321Z",
     "start_time": "2023-03-18T09:44:08.529807Z"
    }
   },
   "outputs": [],
   "source": [
    "# Ada Boosting\n",
    "\n",
    "from sklearn.ensemble import AdaBoostClassifier"
   ]
  },
  {
   "cell_type": "code",
   "execution_count": 37,
   "id": "672d0c51",
   "metadata": {
    "ExecuteTime": {
     "end_time": "2023-03-18T09:44:08.546527Z",
     "start_time": "2023-03-18T09:44:08.537199Z"
    }
   },
   "outputs": [],
   "source": [
    "boost = AdaBoostClassifier(base_estimator = DecisionTreeClassifier(), n_estimators = 100, learning_rate=1)"
   ]
  },
  {
   "cell_type": "code",
   "execution_count": 38,
   "id": "0ef9c9b4",
   "metadata": {
    "ExecuteTime": {
     "end_time": "2023-03-18T09:44:08.562705Z",
     "start_time": "2023-03-18T09:44:08.546527Z"
    }
   },
   "outputs": [
    {
     "data": {
      "text/plain": [
       "AdaBoostClassifier(base_estimator=DecisionTreeClassifier(), learning_rate=1,\n",
       "                   n_estimators=100)"
      ]
     },
     "execution_count": 38,
     "metadata": {},
     "output_type": "execute_result"
    }
   ],
   "source": [
    "boost.fit(x_train, y_train)"
   ]
  },
  {
   "cell_type": "code",
   "execution_count": 39,
   "id": "28b88cf3",
   "metadata": {
    "ExecuteTime": {
     "end_time": "2023-03-18T09:44:08.578700Z",
     "start_time": "2023-03-18T09:44:08.563178Z"
    }
   },
   "outputs": [],
   "source": [
    "boost_pred = boost.predict(x_test)"
   ]
  },
  {
   "cell_type": "code",
   "execution_count": 40,
   "id": "48672d52",
   "metadata": {
    "ExecuteTime": {
     "end_time": "2023-03-18T09:44:08.594500Z",
     "start_time": "2023-03-18T09:44:08.579809Z"
    }
   },
   "outputs": [],
   "source": [
    "boost_actual_predict = pd.DataFrame({'Actual': y_test, 'predict': boost_pred})"
   ]
  },
  {
   "cell_type": "code",
   "execution_count": 41,
   "id": "1643a20a",
   "metadata": {
    "ExecuteTime": {
     "end_time": "2023-03-18T09:44:08.613185Z",
     "start_time": "2023-03-18T09:44:08.596515Z"
    }
   },
   "outputs": [
    {
     "data": {
      "text/html": [
       "<div>\n",
       "<style scoped>\n",
       "    .dataframe tbody tr th:only-of-type {\n",
       "        vertical-align: middle;\n",
       "    }\n",
       "\n",
       "    .dataframe tbody tr th {\n",
       "        vertical-align: top;\n",
       "    }\n",
       "\n",
       "    .dataframe thead th {\n",
       "        text-align: right;\n",
       "    }\n",
       "</style>\n",
       "<table border=\"1\" class=\"dataframe\">\n",
       "  <thead>\n",
       "    <tr style=\"text-align: right;\">\n",
       "      <th></th>\n",
       "      <th>Actual</th>\n",
       "      <th>predict</th>\n",
       "    </tr>\n",
       "  </thead>\n",
       "  <tbody>\n",
       "    <tr>\n",
       "      <th>446</th>\n",
       "      <td>1</td>\n",
       "      <td>1</td>\n",
       "    </tr>\n",
       "    <tr>\n",
       "      <th>404</th>\n",
       "      <td>0</td>\n",
       "      <td>1</td>\n",
       "    </tr>\n",
       "    <tr>\n",
       "      <th>509</th>\n",
       "      <td>1</td>\n",
       "      <td>0</td>\n",
       "    </tr>\n",
       "    <tr>\n",
       "      <th>455</th>\n",
       "      <td>0</td>\n",
       "      <td>0</td>\n",
       "    </tr>\n",
       "    <tr>\n",
       "      <th>201</th>\n",
       "      <td>0</td>\n",
       "      <td>0</td>\n",
       "    </tr>\n",
       "    <tr>\n",
       "      <th>23</th>\n",
       "      <td>0</td>\n",
       "      <td>0</td>\n",
       "    </tr>\n",
       "    <tr>\n",
       "      <th>415</th>\n",
       "      <td>0</td>\n",
       "      <td>0</td>\n",
       "    </tr>\n",
       "    <tr>\n",
       "      <th>548</th>\n",
       "      <td>0</td>\n",
       "      <td>0</td>\n",
       "    </tr>\n",
       "    <tr>\n",
       "      <th>66</th>\n",
       "      <td>0</td>\n",
       "      <td>0</td>\n",
       "    </tr>\n",
       "    <tr>\n",
       "      <th>165</th>\n",
       "      <td>0</td>\n",
       "      <td>1</td>\n",
       "    </tr>\n",
       "  </tbody>\n",
       "</table>\n",
       "</div>"
      ],
      "text/plain": [
       "     Actual  predict\n",
       "446       1        1\n",
       "404       0        1\n",
       "509       1        0\n",
       "455       0        0\n",
       "201       0        0\n",
       "23        0        0\n",
       "415       0        0\n",
       "548       0        0\n",
       "66        0        0\n",
       "165       0        1"
      ]
     },
     "execution_count": 41,
     "metadata": {},
     "output_type": "execute_result"
    }
   ],
   "source": [
    "boost_actual_predict[:10]"
   ]
  },
  {
   "cell_type": "code",
   "execution_count": 42,
   "id": "d87c5f97",
   "metadata": {
    "ExecuteTime": {
     "end_time": "2023-03-18T09:44:08.629187Z",
     "start_time": "2023-03-18T09:44:08.613185Z"
    }
   },
   "outputs": [
    {
     "data": {
      "text/plain": [
       "0.6722222222222223"
      ]
     },
     "execution_count": 42,
     "metadata": {},
     "output_type": "execute_result"
    }
   ],
   "source": [
    "boost.score(x_test, y_test)"
   ]
  },
  {
   "cell_type": "code",
   "execution_count": 43,
   "id": "e0a0f027",
   "metadata": {
    "ExecuteTime": {
     "end_time": "2023-03-18T09:44:08.646481Z",
     "start_time": "2023-03-18T09:44:08.629798Z"
    }
   },
   "outputs": [],
   "source": [
    "# Build the Random Forest model using kfold\n",
    "\n",
    "from sklearn.model_selection import cross_val_score\n",
    "from sklearn.model_selection import KFold\n",
    "from sklearn.ensemble import RandomForestClassifier"
   ]
  },
  {
   "cell_type": "code",
   "execution_count": 44,
   "id": "a5d774bd",
   "metadata": {
    "ExecuteTime": {
     "end_time": "2023-03-18T09:44:09.573932Z",
     "start_time": "2023-03-18T09:44:08.646481Z"
    }
   },
   "outputs": [
    {
     "data": {
      "text/plain": [
       "array([0.76666667, 0.75      , 0.66666667, 0.71666667, 0.76666667,\n",
       "       0.63333333, 0.86666667, 0.71666667, 0.78333333, 0.81666667])"
      ]
     },
     "execution_count": 44,
     "metadata": {},
     "output_type": "execute_result"
    }
   ],
   "source": [
    "kfold = KFold(n_splits=10)\n",
    "num_trees = 100\n",
    "max_feature = 3\n",
    "rfc = RandomForestClassifier(n_estimators=num_trees, max_features = max_feature)\n",
    "rfc = cross_val_score(rfc, train, test, cv = kfold)\n",
    "rfc"
   ]
  },
  {
   "cell_type": "code",
   "execution_count": 45,
   "id": "62b9df6d",
   "metadata": {
    "ExecuteTime": {
     "end_time": "2023-03-18T09:44:09.586498Z",
     "start_time": "2023-03-18T09:44:09.573932Z"
    }
   },
   "outputs": [
    {
     "data": {
      "text/plain": [
       "74.83333333333333"
      ]
     },
     "execution_count": 45,
     "metadata": {},
     "output_type": "execute_result"
    }
   ],
   "source": [
    "rfc.mean()*100"
   ]
  },
  {
   "cell_type": "code",
   "execution_count": 46,
   "id": "dacc5589",
   "metadata": {
    "ExecuteTime": {
     "end_time": "2023-03-18T09:44:09.612618Z",
     "start_time": "2023-03-18T09:44:09.586498Z"
    }
   },
   "outputs": [
    {
     "data": {
      "text/plain": [
       "6.517071598672386"
      ]
     },
     "execution_count": 46,
     "metadata": {},
     "output_type": "execute_result"
    }
   ],
   "source": [
    "rfc.std()*100"
   ]
  }
 ],
 "metadata": {
  "kernelspec": {
   "display_name": "Python 3 (ipykernel)",
   "language": "python",
   "name": "python3"
  },
  "language_info": {
   "codemirror_mode": {
    "name": "ipython",
    "version": 3
   },
   "file_extension": ".py",
   "mimetype": "text/x-python",
   "name": "python",
   "nbconvert_exporter": "python",
   "pygments_lexer": "ipython3",
   "version": "3.9.13"
  }
 },
 "nbformat": 4,
 "nbformat_minor": 5
}
